{
 "cells": [
  {
   "cell_type": "markdown",
   "metadata": {},
   "source": [
    "# MECANICA CLASICA I "
   ]
  },
  {
   "cell_type": "code",
   "execution_count": 9,
   "metadata": {},
   "outputs": [],
   "source": [
    "# nbi:hide_in\n",
    "import matplotlib.pyplot as plt\n",
    "import numpy as np             \n",
    "from scipy.integrate import odeint\n",
    "import ipywidgets as widgets\n",
    "%matplotlib inline\n",
    "t=np.linspace(0,30,1000)"
   ]
  },
  {
   "cell_type": "markdown",
   "metadata": {},
   "source": [
    "## Oscilaciones no lineales"
   ]
  },
  {
   "cell_type": "markdown",
   "metadata": {},
   "source": [
    "$$m \\ddot x + f(\\dot x) + g(x) = h(t)$$\n",
    "Si f o g tienen potencias de $\\dot x$ o $x$ mayores a uno entonces el sistema es no lineal. \n",
    "Se sabe que NO hay solucion general para cada f o g.\n",
    "Si la oscilacion no es lineal se puede linealizar tomando angulos $\\theta$ muy pequenos. <--ESTO TRABAJAMOS HASTA AHORA--> pero la naturaleza es muy NO LINEAL."
   ]
  },
  {
   "cell_type": "markdown",
   "metadata": {},
   "source": [
    "##### Al principio del siglo XX Piere Simone de Laplace decia: \n",
    "\"si se conoce la velocidad y posicion de todas las particulas del universo en un tiempo $t$ entonces podremos conocer el futuro en cualquier momento\"\n",
    "Es una vision muy determinista de la naturaleza. >Luego se podria conocer el futuro<\n",
    "##### Pero la naturaleza no es determinista es CAOTICA.\n",
    "Esto implica que la evolucion del sistema depende sensiblemente de las condiciones iniciales. Pero se debe saber que este caos tambien es determinista y esta asociado a descripciones no lineales. El problema es que las incertezas de nuestras medidas son lo suficientemente significativas para conocer la evolusion del sistema para tiempos grandes."
   ]
  },
  {
   "cell_type": "markdown",
   "metadata": {},
   "source": [
    "##### Consideremos:\n",
    "##### O.A.S\n",
    "$$U(x)=1/2kx^2$$ \n",
    "\n",
    "##### Ahora consideremos un potencial cualquiera:\n",
    "Si la particula sujeta a $U(x)$ tiene energia tal que $E_1$ es apenas mas grande que $U(x)$ entonce se puede escribir como $U(x)\\simeq kx^2$\n",
    "Si E es mas grande tal que $U(x)\\not = kx^2$ se deberan realizar correcciones con terminos superiores."
   ]
  },
  {
   "cell_type": "markdown",
   "metadata": {},
   "source": [
    "#### Desviacion simetrica respecto de la linealidad.\n",
    "Si la desviacion de la linealidad es simetrica respecto de un punto de esquilibrio $(x_0)$ entonces la primera correccion a la fuerza es proporcional a un termino de $x^3$ y por ser simetrica tendra a ambos lados la misma magnitud pero signo opuesto. \n",
    "$$F(x)=-kx+ \\epsilon x^3$$\n",
    "El potencial sera la integral de la expresion anterior:\n",
    "$$U(x)=1/2kx^2-1/4 \\epsilon x^4$$\n",
    "Se analiza el signo de $\\epsilon$:\n",
    "Si $\\epsilon >0$ el osilador se dira blando puesto que al alejarce del origen la fuerza sera menor que la corespondiente al O.A.S. El potencial asociado tendra maximos locales.\n",
    "Si $\\epsilon <0$ el osilador se dira duro puesto que al alejarce del origen la fuerza sera mayor que la corespondiente al O.A.S. (graficar)"
   ]
  },
  {
   "cell_type": "markdown",
   "metadata": {},
   "source": [
    "#### Ejemplo 1.\n",
    "Se tiene una particula de masa $m$ suspendida entre dos resortes identicos de longitud $L$ dispuestos sobre la vertical y la masa se desplaza sobre la horizontal un angulo $\\theta$ sin considerar la gravedad y en $t=0$ los resortes se encuentran en la posicion de equilibrio. Mostrar que el sistema es no linealy encontrar la solucion de estado estacionario si esta sujeto a una fuerza externa que sea $F_0 \\cos \\omega t$ (Imagen)\n",
    "Si en $t=0$ no actua la fuerza de la gravedad y los resoretes estan en equlibrio por lo que sobre la masa no actuan fuerzas.\n",
    "Si lo estiro llevando la masa a una posicion $x$ la fuerza sera: \n",
    "$$F=-k(s-L)$$\n",
    "$$s= \\sqrt{x^2+L^2}$$\n",
    "Como sobre la vertical las fuerzas son iguales y opuestas por simetria solo actua una fuerza en $x$:\n",
    "$$F_x=-2k(s-L) \\sin(\\theta)$$\n",
    "$$F_x=-2k(\\sqrt{x^2+L^2}-L) x/ \\sqrt{x^2+L^2}$$\n",
    "$$F_x= -2kx(1-L/ \\sqrt{x^2+L^2})=-2kx(1-1/ \\sqrt{1+ (x/L)^2})$$\n",
    "Si $x \\ll L$ se puede realizar una aproximacion lineal.\n",
    "Si $x\\simeq L$ se puede realizar una expancion en series de TAylor de $1/ \\sqrt{1+ (x/L)^2}$ y la fuerza nos quedara:\n",
    "$$F \\simeq -kx^3/L^2$$\n",
    "Si $x$ (la amplitud) es significativamente pequena la $F$ sera proporcional a $x^2$ y se dira que es intrinsecamente no lineal. La energia potencial asociada sera $U(x)=1/2 (k/L^2) x^4$\n",
    "Que onda si los resortes estaban fuera del equilibrio?\n",
    "Se tiene un estiramiento $d$ sobre ambos resortes y la fuerza en $x$ sera:\n",
    "$$F_x=-2kd/L x -(k(L-d)/L^3) x^3$$ \n",
    "Aparece un termino lineal ademas del cubico.\n",
    "Sea $\\epsilon = -k(L-d)/L^3$ --> $\\epsilon < 0$ El oscilador sera duro.\n",
    "Ahora consideraremos el caso en que la masa este sujeta a una $F_e$\n",
    "$$m \\ddot x = -2 dk/L x + \\epsilon ' x^3 + F_0 \\cos (\\omega t)$$\n",
    "$$\\ddot x = -a x + \\epsilon  x^3 + G \\cos (\\omega t)$$\n",
    "Se encontraran las propiedades mas importantes de la solucion por el metodo de \"Aproximaciones Sucecivas\" lo que implica probar soluciones propuestas.\n",
    "###### Prueba 1:\n",
    "$x_1 - A \\cos (\\omega t)$ la insertamos del lado derecho.\n",
    "$$\\ddot x_2 = -aA \\cos (\\omega t) + \\epsilon A^3 \\cos ^3 (\\omega t) + G \\cos (\\omega t)$$ \n",
    "(ver como sigue)"
   ]
  },
  {
   "cell_type": "markdown",
   "metadata": {},
   "source": [
    "##### Desviaciones no simetricas de la linealidad.\n",
    "Ocurre en sistemas fisicos donde la fuerza no es simetrica respecto del punto de equilibrio $x_0$. Por ejemplo:\n",
    "$$F(x)=-kx+ \\lambda x^2$$\n",
    "Se puede generalizar si $F$ es impar $F(x)=-F(-x)$ y $F(x)=F(-x)$ luego la fuerza es simetrica y el sentido es opuesto para otros casos se dira no simetrico."
   ]
  },
  {
   "cell_type": "markdown",
   "metadata": {},
   "source": [
    "### Sistemas de Ecuaciones Diferenciales de 1er orden.\n",
    "$$\\ddot x=G(x,\\ddot x)\\; [Autonomo]$$\n",
    "$$\\ddot x=G(x, \\ddot x, t)\\; [No Autonomo]$$\n",
    "###### Caso general autonomo.\n",
    "$$\\dot x= F(x,y)\\\\ \\dot y= G(x,y)\\\\ con\\;\\dot x=y$$ \n",
    "$x=x(t) e y=(t)$ describen dos curvas parametricas en el espacio de fases para el cual a cada pinto de $\\Re$ pasa una y solo una curva??\n",
    "###### Punto Critico.\n",
    "Si un punto $(x_0,y_0)$ cumple $F(x_0,y_0)=0\\; y\\; G(x_0,y_0)=0$ entonce $(x_0,y_0)$ se dice un punto critico. "
   ]
  },
  {
   "cell_type": "markdown",
   "metadata": {},
   "source": [
    "### Estabilidad de puntos criticos."
   ]
  },
  {
   "cell_type": "markdown",
   "metadata": {},
   "source": [
    "Un punto critico $(x_c, y_c)$ se dice estable si para un punto inicial $(x_0,y_0)$ suficientemente cercano a $(x_c,y_c)$ entonces $(x(t),y(t))$ permanece cercana a $(x_c,y_c)$ pata todo $t>0$\n",
    "+ Sea $\\pmatrix{x(t) \\\\ y(t)}=\\vec{x}(t)$ Trayectoria en el plano de fase.     \n",
    "\n",
    "+ Sea $\\pmatrix{x_0 \\\\ y_0}$ la C.I.    \n",
    "\n",
    "$\\rightarrow$ El punto critico $(x_c,y_c)$ es estable si $\\forall \\epsilon >0$ tal que $|\\vec{x}(t)-\\vec{x}_c|<\\epsilon \\; \\exists \\sigma >0$ tal que $|x_0-x_c|<\\sigma \\; \\; \\forall t>0$  \n",
    "  \n",
    "Ejemplo: OAS.  \n",
    "  \n",
    "$$\\dot x=y \\\\ \\dot y=- \\omega^2_0 x$$  \n",
    "$$x(t)=c\\cos (\\omega_0 t- \\delta) \\\\ y(t)=-\\omega_0 c sen (\\omega_0 t - \\delta)$$\n",
    "$$\\frac{x^2}{c^2}+\\frac{y^2}{\\omega^2_0 c^2}$$"
   ]
  },
  {
   "attachments": {
    "OAS!.png": {
     "image/png": "[encoded data removed]"
    }
   },
   "cell_type": "markdown",
   "metadata": {},
   "source": [
    "![OAS!.png](attachment:OAS!.png)"
   ]
  },
  {
   "cell_type": "markdown",
   "metadata": {},
   "source": [
    ">*La soluciones que se inician lo suficientemente cerca de $(x_c,y_c)$ distancia menor que $\\sigma$ permanecen cerca de $(x_c,y_c)$ distancia menor que $\\epsilon$.-*"
   ]
  },
  {
   "attachments": {
    "OAS.png": {
     "image/png": "[encoded data removed]"
    }
   },
   "cell_type": "markdown",
   "metadata": {},
   "source": [
    "![OAS.png](attachment:OAS.png)"
   ]
  },
  {
   "cell_type": "markdown",
   "metadata": {},
   "source": [
    "**Un centro estable** es un punto critico rodeado de trayectorias cerradas simoples que corresponden a movimientos oscilatorios.  \n",
    "**Estabilidad asintotica** es un punto critico $(x_c, y_c)$ si existe un $\\sigma$ mayor que cero tal que para $|\\vec{x_o}- \\vec{x_C}|<\\sigma$ entonces: $$\\lim_{t\\to \\infty}=\\vec{X}(t)=x_c$$"
   ]
  },
  {
   "cell_type": "markdown",
   "metadata": {},
   "source": [
    "Ejemplo:  \n",
    "\n",
    "Osilador Armonico Amortiguado:   \n",
    "$(0,0$ sera un punto critico y ademas sera asintoticamente estable."
   ]
  },
  {
   "cell_type": "code",
   "execution_count": 8,
   "metadata": {
    "scrolled": true
   },
   "outputs": [
    {
     "data": {
      "application/vnd.jupyter.widget-view+json": {
       "model_id": "d4b2a39cbc444f0b921d80eee4fa733c",
       "version_major": 2,
       "version_minor": 0
      },
      "text/plain": [
       "interactive(children=(IntSlider(value=0, description='pos', max=10, min=-10), IntSlider(value=0, description='…"
      ]
     },
     "metadata": {},
     "output_type": "display_data"
    }
   ],
   "source": [
    "# nbi:hide_in\n",
    "def OAA(Psi,t,beta,omega_0):\n",
    "    x, gamma = Psi\n",
    "    dotPsi = [gamma, -2*beta*gamma-(omega_0**2)*x]\n",
    "    return dotPsi\n",
    "\n",
    "\n",
    "\n",
    "def sol(pos,vel,beta,omega_0):\n",
    "    Psi_0=[pos,vel]\n",
    "    t=np.linspace(0,30,1000)\n",
    "    sol=odeint(OAA, Psi_0, t, args=(beta, omega_0))\n",
    "    plt.plot(sol[:,0], sol[:,1],'r')\n",
    "    \n",
    "widgets.interactive(sol,pos=(-10,10,1),vel=(-10,10,1),beta=(0,1,0.1),omega_0=(-5,5,0.5))\n"
   ]
  },
  {
   "cell_type": "markdown",
   "metadata": {},
   "source": [
    "Otro ejemplo:\n",
    "$$\\dot x= -y+x(1-x^2-y^2)$$\n",
    "$$\\dot y = x+y(1-x^2-y^2)$$\n",
    "\n",
    "En coordennada polares:\n",
    "$$x=r\\cos(\\theta)$$\n",
    "$$y=r\\sin(\\theta)$$\n",
    "$$\\frac{y}{x}=\\tan(\\theta)$$  \n",
    "$$\\dot\\theta=\\frac{d}{dt}\\arctan(\\frac{y}{x})$$\n",
    "Es trivial que:\n",
    "$$\\dot\\theta=\\frac{x\\dot y - y\\dot x}{x^2+y^2}$$  \n",
    "\n",
    "$$\\dot\\theta=\\frac{x(x+y(1-x^2-y^2) - y(-y+x(1-x^2-y^2))}{x^2+y^2}$$  \n",
    "$$\\dot \\theta = 1$$\n",
    "$$\\theta(t)=\\theta_0+t$$\n",
    "\n",
    "por otro lado:\n",
    "$$r^2=x^2+y^2$$\n",
    "$$2r\\dot r=2x \\dot x + 2y \\dot y$$  \n",
    "$$2r\\dot r=2x (-y+x(1-x^2-y^2)) + 2y (x+y(1-x^2-y^2))$$\n",
    "$$\\dot r= (1-r^2)r$$\n",
    "C.I.: $r(0)=0$ luego si integramos:\n",
    "$$r(t)=\\frac{r_0}{\\sqrt{(1-r_0^2)e^{-2t}+r_0^2}}$$  \n",
    "Si volvemos a las variables originales:\n",
    "$$x(t)=r(t)\\cos(t+\\theta_0)$$\n",
    "$$y(t)=r(t)\\sin(t+\\theta_0)$$  \n",
    "\n",
    "El termino exponencialtiende a $0$ cuando $t\\to \\infty$."
   ]
  },
  {
   "cell_type": "code",
   "execution_count": 21,
   "metadata": {},
   "outputs": [
    {
     "data": {
      "text/plain": [
       "[<matplotlib.lines.Line2D at 0x7f2af65c5be0>]"
      ]
     },
     "execution_count": 21,
     "metadata": {},
     "output_type": "execute_result"
    },
    {
     "data": {
      "image/png": "[encoded data removed]",
      "text/plain": [
       "<Figure size 432x288 with 1 Axes>"
      ]
     },
     "metadata": {
      "needs_background": "light"
     },
     "output_type": "display_data"
    }
   ],
   "source": [
    "def ejemploalgo(Psi,t):\n",
    "    x, y = Psi\n",
    "    dotPsi = [-y+x*(1-x**2-y**2), x+y*(1-x**2-y**2)]\n",
    "    return dotPsi\n",
    "\n",
    "Psi_0=[1.,5.0]\n",
    "\n",
    "\n",
    "sol=odeint(ejemploalgo, Psi_0, t)\n",
    "\n",
    "plt.plot(sol[:,0], sol[:,1],'r')"
   ]
  },
  {
   "cell_type": "code",
   "execution_count": 22,
   "metadata": {
    "scrolled": true
   },
   "outputs": [
    {
     "data": {
      "text/plain": [
       "[<matplotlib.lines.Line2D at 0x7f2af5e64e80>]"
      ]
     },
     "execution_count": 22,
     "metadata": {},
     "output_type": "execute_result"
    },
    {
     "data": {
      "image/png": "[encoded data removed]",
      "text/plain": [
       "<Figure size 432x288 with 1 Axes>"
      ]
     },
     "metadata": {
      "needs_background": "light"
     },
     "output_type": "display_data"
    }
   ],
   "source": [
    "\n",
    "r=5\n",
    "theta=3.14\n",
    "\n",
    "r_t=(((1-r**2)*np.e**(-2*t)+r**2)**-0.5)*r\n",
    "theta_t=t+theta\n",
    "\n",
    "x=r_t * np.cos(theta_t)\n",
    "y=r_t * np.sin(theta_t)\n",
    "\n",
    "plt.plot(x, y,'r')"
   ]
  },
  {
   "cell_type": "markdown",
   "metadata": {},
   "source": [
    "En forma general:  \n",
    "para una trayectoria no degenerada de un sistema autonomo.\n",
    "$$\\dot x=F(x,y)\\;\\;\\;\\dot y=G(x,y)$$\n",
    "hay cuatro posibilidades:  \n",
    "1. $\\pmatrix{x(t)\\\\y(t)}$ Se aproxima a un punto critico cuando $t \\to \\infty$.  \n",
    "\n",
    "2. $\\pmatrix{x(t)\\\\y(t)}$ No esta acotado cuando $t$ aumenta.  \n",
    "\n",
    "3. $\\pmatrix{x(t)\\\\y(t)}$ Es una trayectoria cerrada (solucion periodica).  \n",
    "\n",
    "4. $\\pmatrix{x(t)\\\\y(t)}$ Es una trayectoria que gira en espiral hacia una trayectoria cerrada cuando $t \\to \\infty$."
   ]
  },
  {
   "cell_type": "markdown",
   "metadata": {},
   "source": [
    "### Linealizacion de un sistema."
   ]
  },
  {
   "cell_type": "markdown",
   "metadata": {},
   "source": [
    "Sea un punto critico $(x_c,y_c)$ un punto critico del sistema:\n",
    "$$\\dot x= F(x,y) \\;\\; \\dot y=G(x,y)$$\n",
    "sin perder generalidad, tomamos $(x_c,y_c)=(0,0)$ lo que solo produce un cambio del marco de referencia.  \n",
    "**Sabemos que en el punto critico:**\n",
    "$$F(x_c,y_c)= F(0,0)= 0 \\\\ G(x_c,y_c)= F(0,0)= 0$$"
   ]
  },
  {
   "cell_type": "markdown",
   "metadata": {},
   "source": [
    "Realizamos un desarrollo en series de Taylor:  \n",
    "$$F(x,y)=\\partial_x Fx+\\partial_yFy+ f(x,y)\\\\G(x,y)=\\partial_x Fx+\\partial_yGy+ g(x,y)$$\n",
    "entonces en un entorno de $(0,0)$ se tiene:\n",
    "$$\\dot x= F(x,y)=ax+by+f(x,y) \\simeq ax+by \\\\ \\dot y= G(x,y)=cx+dy+g(x,y) \\simeq cx+dy$$\n",
    "se pueden despreciar los terminos de orden superior son despreciables dado que al derivar aparecen $x e y$ con potencias mayores que $1$ y al estar cercano al origen son desprecibles.  \n",
    "Es topologicamentr equivalente en la vecindad de $(0,0)$ lo que implica qque su diagrama de fases es el mismo y sus caracteristicas tambien.  \n",
    "**En forma vectorial**  \n",
    "$$\\vec X'= A \\vec X= \\pmatrix{a\\;b\\\\c\\;d}\\pmatrix{x\\\\y}$$\n",
    "donde las soluciones son de la forma:\n",
    "$$\\vec X=\\vec V e^{\\lambda t}$$\n",
    "Dos soluciones L.I. que sean:\n",
    "$$\\vec X_1=\\vec V_1 e^{\\lambda_1 t} \\;\\;\\;\\; \\vec X_2=\\vec V_2 e^{\\lambda_2 t}$$\n",
    "Remplazamos en la ecuacion $\\vec X'= A \\vec X\\$:  \n",
    "$$\\lambda \\vec V e^{\\lambda t}=A\\vec V e^{\\lambda t}$$ $$\\lambda \\vec V=A\\vec V$$ $$(A-\\lambda \\mathbb{1}) \\vec V=0$$    \n",
    "\n",
    "Escribimos la ecuacion caracteristica del sistema: \n",
    "$$\\lambda^2-(a+b)\\lambda + ad-bc=0$$\n",
    "Luego $\\lambda$ es quien determina cualitativamente la naturaleza de la solucion.  \n",
    "hay $5$ posibilidades:\n",
    "1. raices reales de distintas de igual signo.\n",
    "2. raices reales de distintas de distinto signo.\n",
    "3. raices reales de iguales de diferentes de cero.\n",
    "4. raices complejas conjugadas.\n",
    "5. raices imaginarias puras."
   ]
  },
  {
   "cell_type": "markdown",
   "metadata": {},
   "source": [
    "**raices reales de distintas de igual signo.** $\\lambda_1 \\not = \\lambda_2$\n",
    "$$x(t)=a_1e^{\\lambda_1 t}$$"
   ]
  },
  {
   "cell_type": "markdown",
   "metadata": {},
   "source": [
    "**raices reales de distintas de distinto signo.**\n",
    "$$\\pmatrix{x(t)\\\\y(t)} \\to \\pmatrix{0 \\\\ 0}\\;\\;t\\to \\infty$$\n",
    "P.C. asintoticamente estable."
   ]
  },
  {
   "cell_type": "markdown",
   "metadata": {},
   "source": [
    "**raices reales de iguales de diferentes de cero.**\n",
    "$$\\pmatrix{x(t)\\\\y(t)}\\to \\infty \\;\\; \\forall t$$\n",
    "P.C. inestable\n",
    "El punto no necesariamente tiende a infinito puede verse atraido por algun otro punto critico, pero si podemos decir que se aleja del $(0,0)$.  \n",
    "  \n"
   ]
  },
  {
   "cell_type": "markdown",
   "metadata": {},
   "source": [
    "**raices reales de distintas de distinto signo.**  \n",
    "sea $\\lambda_1<0<\\lambda_2$  \n"
   ]
  }
 ],
 "metadata": {
  "kernelspec": {
   "display_name": "Python 3",
   "language": "python",
   "name": "python3"
  },
  "language_info": {
   "codemirror_mode": {
    "name": "ipython",
    "version": 3
   },
   "file_extension": ".py",
   "mimetype": "text/x-python",
   "name": "python",
   "nbconvert_exporter": "python",
   "pygments_lexer": "ipython3",
   "version": "3.6.9"
  }
 },
 "nbformat": 4,
 "nbformat_minor": 4
}
